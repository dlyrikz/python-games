{
  "nbformat": 4,
  "nbformat_minor": 0,
  "metadata": {
    "colab": {
      "name": "RNN and LSTM for Image Classification.ipynb",
      "provenance": [],
      "collapsed_sections": [],
      "authorship_tag": "ABX9TyN8UTo1nyGBy3kajelTPVMt",
      "include_colab_link": true
    },
    "kernelspec": {
      "name": "python3",
      "display_name": "Python 3"
    },
    "accelerator": "GPU"
  },
  "cells": [
    {
      "cell_type": "markdown",
      "metadata": {
        "id": "view-in-github",
        "colab_type": "text"
      },
      "source": [
        "<a href=\"https://colab.research.google.com/github/dlyrikz/DeepLearning/blob/master/RNN_and_LSTM_for_Image_Classification.ipynb\" target=\"_parent\"><img src=\"https://colab.research.google.com/assets/colab-badge.svg\" alt=\"Open In Colab\"/></a>"
      ]
    },
    {
      "cell_type": "markdown",
      "metadata": {
        "id": "ZyBLnSsQO3JK"
      },
      "source": [
        "# Step 1: Install and Setup"
      ]
    },
    {
      "cell_type": "code",
      "metadata": {
        "id": "q638J0SsONxZ"
      },
      "source": [
        "import tensorflow as tf\n",
        "import numpy as np\n",
        "import pandas as pd\n",
        "import matplotlib.pyplot as plt\n"
      ],
      "execution_count": 19,
      "outputs": []
    },
    {
      "cell_type": "markdown",
      "metadata": {
        "id": "gQQSIHmGPAkD"
      },
      "source": [
        "# Step 2: Data Preprocessing"
      ]
    },
    {
      "cell_type": "code",
      "metadata": {
        "id": "xc_VA55NPJAe"
      },
      "source": [
        "# importing libraries\n",
        "from tensorflow.keras.datasets import mnist"
      ],
      "execution_count": 20,
      "outputs": []
    },
    {
      "cell_type": "code",
      "metadata": {
        "id": "49w-JhXlPs2k"
      },
      "source": [
        "# loading thr datasets\n",
        "(x_train, y_train),(x_test, y_test) = mnist.load_data()"
      ],
      "execution_count": 21,
      "outputs": []
    },
    {
      "cell_type": "code",
      "metadata": {
        "id": "EkunZVnrQrB4",
        "outputId": "9f8195a4-ee25-490a-ef82-9062c1b4a5e5",
        "colab": {
          "base_uri": "https://localhost:8080/",
          "height": 35
        }
      },
      "source": [
        "x_train.shape, x_test.shape"
      ],
      "execution_count": 22,
      "outputs": [
        {
          "output_type": "execute_result",
          "data": {
            "text/plain": [
              "((60000, 28, 28), (10000, 28, 28))"
            ]
          },
          "metadata": {
            "tags": []
          },
          "execution_count": 22
        }
      ]
    },
    {
      "cell_type": "code",
      "metadata": {
        "id": "Zg0oHMxBebPb",
        "outputId": "16e72e04-ed4d-4a29-f9cf-3f16e8ace1f2",
        "colab": {
          "base_uri": "https://localhost:8080/",
          "height": 35
        }
      },
      "source": [
        "y_train.shape, y_test.shape"
      ],
      "execution_count": 23,
      "outputs": [
        {
          "output_type": "execute_result",
          "data": {
            "text/plain": [
              "((60000,), (10000,))"
            ]
          },
          "metadata": {
            "tags": []
          },
          "execution_count": 23
        }
      ]
    },
    {
      "cell_type": "code",
      "metadata": {
        "id": "C314DuTyejMS",
        "outputId": "93151ace-7715-4f76-9423-b3b1e3ebf37f",
        "colab": {
          "base_uri": "https://localhost:8080/",
          "height": 35
        }
      },
      "source": [
        "x_train.min(), x_train.max()"
      ],
      "execution_count": 24,
      "outputs": [
        {
          "output_type": "execute_result",
          "data": {
            "text/plain": [
              "(0, 255)"
            ]
          },
          "metadata": {
            "tags": []
          },
          "execution_count": 24
        }
      ]
    },
    {
      "cell_type": "code",
      "metadata": {
        "id": "OGAqN9cGfGgX",
        "outputId": "d6bbc2e5-ffb1-4c07-e6ef-21f9ed2ed3f9",
        "colab": {
          "base_uri": "https://localhost:8080/",
          "height": 35
        }
      },
      "source": [
        "y_train.min(), y_train.max()"
      ],
      "execution_count": 25,
      "outputs": [
        {
          "output_type": "execute_result",
          "data": {
            "text/plain": [
              "(0, 9)"
            ]
          },
          "metadata": {
            "tags": []
          },
          "execution_count": 25
        }
      ]
    },
    {
      "cell_type": "code",
      "metadata": {
        "id": "EtOGVEmffR6C"
      },
      "source": [
        "# Normalize the dataset\n",
        "x_train = x_train / 255.0\n",
        "x_test = x_test /255.0"
      ],
      "execution_count": 26,
      "outputs": []
    },
    {
      "cell_type": "code",
      "metadata": {
        "id": "XSHnrohnfhUc",
        "outputId": "4d2aca84-038e-405f-e378-b62bd705c2bc",
        "colab": {
          "base_uri": "https://localhost:8080/",
          "height": 35
        }
      },
      "source": [
        "x_train.min(), x_train.max()"
      ],
      "execution_count": 27,
      "outputs": [
        {
          "output_type": "execute_result",
          "data": {
            "text/plain": [
              "(0.0, 1.0)"
            ]
          },
          "metadata": {
            "tags": []
          },
          "execution_count": 27
        }
      ]
    },
    {
      "cell_type": "code",
      "metadata": {
        "id": "uqzI7laqfkb1",
        "outputId": "3def228f-3ad1-4963-ac3f-77de2c55f087",
        "colab": {
          "base_uri": "https://localhost:8080/",
          "height": 283
        }
      },
      "source": [
        "# check Sample image\n",
        "for x in range(3):\n",
        "  plt.imshow(x_train[x])\n",
        "y_train[x]"
      ],
      "execution_count": 46,
      "outputs": [
        {
          "output_type": "execute_result",
          "data": {
            "text/plain": [
              "4"
            ]
          },
          "metadata": {
            "tags": []
          },
          "execution_count": 46
        },
        {
          "output_type": "display_data",
          "data": {
            "image/png": "[encoded data removed]",
            "text/plain": [
              "<Figure size 432x288 with 1 Axes>"
            ]
          },
          "metadata": {
            "tags": [],
            "needs_background": "light"
          }
        }
      ]
    },
    {
      "cell_type": "code",
      "metadata": {
        "id": "A_XPBJcRfwx9",
        "outputId": "724d41ed-3a54-429e-fc77-d243f7c1723b",
        "colab": {
          "base_uri": "https://localhost:8080/",
          "height": 35
        }
      },
      "source": [
        "y_train[3]"
      ],
      "execution_count": 41,
      "outputs": [
        {
          "output_type": "execute_result",
          "data": {
            "text/plain": [
              "1"
            ]
          },
          "metadata": {
            "tags": []
          },
          "execution_count": 41
        }
      ]
    },
    {
      "cell_type": "markdown",
      "metadata": {
        "id": "uP8RGA2HgTb1"
      },
      "source": [
        "# Step 3: Build the LSTM"
      ]
    },
    {
      "cell_type": "code",
      "metadata": {
        "id": "brLh_ELsgYq-"
      },
      "source": [
        "# define an object (initializing the RNN)\n",
        "model = tf.keras.models.Sequential()\n"
      ],
      "execution_count": 30,
      "outputs": []
    },
    {
      "cell_type": "code",
      "metadata": {
        "id": "wPOppHaqgwMa"
      },
      "source": [
        "# first LSTM layer\n",
        "model.add(tf.keras.layers.LSTM(units=128, activation='relu', return_sequences=True, input_shape=(28,28)))\n",
        "model.add(tf.keras.layers.Dropout(0.2))\n",
        "\n",
        "# second LSTM layer\n",
        "model.add(tf.keras.layers.LSTM(units=128, activation='relu'))\n",
        "model.add(tf.keras.layers.Dropout(0.2))\n",
        "\n",
        "# fully connected layer (first Dense layer)\n",
        "model.add(tf.keras.layers.Dense(units=32, activation='relu'))\n",
        "model.add(tf.keras.layers.Dropout(0.2))\n",
        "\n",
        "# Output layer\n",
        "model.add(tf.keras.layers.Dense(units=10, activation='softmax'))"
      ],
      "execution_count": 31,
      "outputs": []
    },
    {
      "cell_type": "code",
      "metadata": {
        "id": "nqSIusrWhtJJ",
        "outputId": "717f9fcc-653e-4894-d676-fa4757f521d5",
        "colab": {
          "base_uri": "https://localhost:8080/",
          "height": 399
        }
      },
      "source": [
        "model.summary()"
      ],
      "execution_count": 32,
      "outputs": [
        {
          "output_type": "stream",
          "text": [
            "Model: \"sequential_1\"\n",
            "_________________________________________________________________\n",
            "Layer (type)                 Output Shape              Param #   \n",
            "=================================================================\n",
            "lstm_4 (LSTM)                (None, 28, 128)           80384     \n",
            "_________________________________________________________________\n",
            "dropout_4 (Dropout)          (None, 28, 128)           0         \n",
            "_________________________________________________________________\n",
            "lstm_5 (LSTM)                (None, 128)               131584    \n",
            "_________________________________________________________________\n",
            "dropout_5 (Dropout)          (None, 128)               0         \n",
            "_________________________________________________________________\n",
            "dense_2 (Dense)              (None, 32)                4128      \n",
            "_________________________________________________________________\n",
            "dropout_6 (Dropout)          (None, 32)                0         \n",
            "_________________________________________________________________\n",
            "dense_3 (Dense)              (None, 10)                330       \n",
            "=================================================================\n",
            "Total params: 216,426\n",
            "Trainable params: 216,426\n",
            "Non-trainable params: 0\n",
            "_________________________________________________________________\n"
          ],
          "name": "stdout"
        }
      ]
    },
    {
      "cell_type": "code",
      "metadata": {
        "id": "ecfOizwZju1g"
      },
      "source": [
        "opt = tf.keras.optimizers.Adam(learning_rate=0.001)"
      ],
      "execution_count": 33,
      "outputs": []
    },
    {
      "cell_type": "code",
      "metadata": {
        "id": "59UjUAP9j9LY"
      },
      "source": [
        "# compile the model\n",
        "model.compile(optimizer=opt, loss='sparse_categorical_crossentropy', metrics=['accuracy'])"
      ],
      "execution_count": 34,
      "outputs": []
    },
    {
      "cell_type": "markdown",
      "metadata": {
        "id": "7hIIyGztktIC"
      },
      "source": [
        "# Step 4: Train the Model"
      ]
    },
    {
      "cell_type": "code",
      "metadata": {
        "id": "K_FI8pcGky7h",
        "outputId": "3bfcbf97-f92d-4946-8b8c-f5836c037f96",
        "colab": {
          "base_uri": "https://localhost:8080/",
          "height": 384
        }
      },
      "source": [
        "history = model.fit(x_train, y_train, epochs=10, validation_data=(x_test, y_test))"
      ],
      "execution_count": 36,
      "outputs": [
        {
          "output_type": "stream",
          "text": [
            "Epoch 1/10\n",
            "1875/1875 [==============================] - 106s 56ms/step - loss: 0.4505 - accuracy: 0.8579 - val_loss: 0.2202 - val_accuracy: 0.9358\n",
            "Epoch 2/10\n",
            "1875/1875 [==============================] - 106s 57ms/step - loss: 0.1655 - accuracy: 0.9552 - val_loss: 0.0824 - val_accuracy: 0.9768\n",
            "Epoch 3/10\n",
            "1875/1875 [==============================] - 108s 57ms/step - loss: 0.1131 - accuracy: 0.9711 - val_loss: 0.0916 - val_accuracy: 0.9725\n",
            "Epoch 4/10\n",
            "1875/1875 [==============================] - 111s 59ms/step - loss: 0.0903 - accuracy: 0.9762 - val_loss: 0.0592 - val_accuracy: 0.9828\n",
            "Epoch 5/10\n",
            "1875/1875 [==============================] - 106s 57ms/step - loss: 0.0815 - accuracy: 0.9786 - val_loss: 0.0750 - val_accuracy: 0.9799\n",
            "Epoch 6/10\n",
            "1875/1875 [==============================] - 106s 57ms/step - loss: 0.0595 - accuracy: 0.9841 - val_loss: 0.0470 - val_accuracy: 0.9865\n",
            "Epoch 7/10\n",
            "1875/1875 [==============================] - 106s 57ms/step - loss: 0.0548 - accuracy: 0.9857 - val_loss: 0.0533 - val_accuracy: 0.9860\n",
            "Epoch 8/10\n",
            "1875/1875 [==============================] - 106s 56ms/step - loss: 0.0503 - accuracy: 0.9866 - val_loss: 0.0345 - val_accuracy: 0.9887\n",
            "Epoch 9/10\n",
            "1875/1875 [==============================] - 106s 56ms/step - loss: 0.0436 - accuracy: 0.9887 - val_loss: 0.1883 - val_accuracy: 0.9857\n",
            "Epoch 10/10\n",
            "1875/1875 [==============================] - 106s 56ms/step - loss: 0.5372 - accuracy: 0.9611 - val_loss: 0.0551 - val_accuracy: 0.9848\n"
          ],
          "name": "stdout"
        }
      ]
    },
    {
      "cell_type": "code",
      "metadata": {
        "id": "VyZycle7rRwQ"
      },
      "source": [
        "# Predictions\n",
        "y_predict = model.predict_classes(x_test)"
      ],
      "execution_count": 48,
      "outputs": []
    },
    {
      "cell_type": "code",
      "metadata": {
        "id": "e_pr8TLerYq0",
        "outputId": "36b6f901-073f-4d66-c4e6-9164194b23d6",
        "colab": {
          "base_uri": "https://localhost:8080/",
          "height": 35
        }
      },
      "source": [
        "print(y_predict[10], y_test[10])"
      ],
      "execution_count": 49,
      "outputs": [
        {
          "output_type": "stream",
          "text": [
            "0 0\n"
          ],
          "name": "stdout"
        }
      ]
    },
    {
      "cell_type": "code",
      "metadata": {
        "id": "Ks-eAqd6Xc3p",
        "outputId": "79e76426-59eb-4cbf-dfd0-7f5d6be6208a",
        "colab": {
          "base_uri": "https://localhost:8080/",
          "height": 191
        }
      },
      "source": [
        "# Confusion Metrics\n",
        "from sklearn.metrics import confusion_matrix, accuracy_score\n",
        "cm = confusion_matrix(y_test, y_predict)\n",
        "print(cm)"
      ],
      "execution_count": 50,
      "outputs": [
        {
          "output_type": "stream",
          "text": [
            "[[ 970    0    1    0    0    1    2    1    5    0]\n",
            " [   0 1132    2    1    0    0    0    0    0    0]\n",
            " [   2    0 1020    3    0    0    1    3    2    1]\n",
            " [   0    0    2 1002    0    2    0    3    0    1]\n",
            " [   0    0    0    0  947    0    6    4    0   25]\n",
            " [   0    1    1    8    0  878    2    0    1    1]\n",
            " [   2    3    0    1    3    5  942    0    2    0]\n",
            " [   0    4    5    2    1    0    0 1011    0    5]\n",
            " [   0    1    9    1    1    2    0    3  952    5]\n",
            " [   0    1    0    1    4    3    0    4    2  994]]\n"
          ],
          "name": "stdout"
        }
      ]
    },
    {
      "cell_type": "code",
      "metadata": {
        "id": "JO9O6aFqX5Yi",
        "outputId": "ee7486db-cfb4-46e3-9d88-5d5630cb1ff0",
        "colab": {
          "base_uri": "https://localhost:8080/",
          "height": 35
        }
      },
      "source": [
        "accuracy_cm = accuracy_score(y_test, y_predict)\n",
        "print(accuracy_cm)"
      ],
      "execution_count": 51,
      "outputs": [
        {
          "output_type": "stream",
          "text": [
            "0.9848\n"
          ],
          "name": "stdout"
        }
      ]
    },
    {
      "cell_type": "markdown",
      "metadata": {
        "id": "Xkrty8LWYXau"
      },
      "source": [
        "# Step 5: Learning Curve"
      ]
    },
    {
      "cell_type": "code",
      "metadata": {
        "id": "pvZuydtgnyN3"
      },
      "source": [
        "def learning_curve(history, epoch):\n",
        "\n",
        "  #training vs validation accuracy\n",
        "  epoch_range = range(1, epoch+1)\n",
        "  plt.plot(epoch_range, history.history['accuracy'], label='Train')\n",
        "  plt.plot(epoch_range, history.history['val_accuracy'], label='Val Accuracy')\n",
        "  plt.title('Model Accuracy')\n",
        "  plt.ylabel('Accuracy')\n",
        "  plt.xlabel('Epoch')\n",
        "  plt.legend(loc='upper left')\n",
        "  plt.show()\n",
        "\n",
        "  #training vs validation loss\n",
        "\n",
        "  epoch_range = range(1, epoch+1)\n",
        "  plt.plot(epoch_range, history.history['loss'], label=\"Train\")\n",
        "  plt.plot(epoch_range, history.history['val_loss'], label=\"Loss\")\n",
        "  plt.title('Model Loss')\n",
        "  plt.ylabel('Loss')\n",
        "  plt.xlabel('Epoch')\n",
        "  plt.legend(loc='upper left')\n",
        "  plt.show()"
      ],
      "execution_count": 54,
      "outputs": []
    },
    {
      "cell_type": "code",
      "metadata": {
        "id": "ATrFR4GvZ4CT",
        "outputId": "25a23e10-8fb2-40ed-d069-fa4bf4abacf6",
        "colab": {
          "base_uri": "https://localhost:8080/",
          "height": 573
        }
      },
      "source": [
        "learning_curve(history, 10)"
      ],
      "execution_count": 56,
      "outputs": [
        {
          "output_type": "display_data",
          "data": {
            "image/png": "[encoded data removed]",
            "text/plain": [
              "<Figure size 432x288 with 1 Axes>"
            ]
          },
          "metadata": {
            "tags": [],
            "needs_background": "light"
          }
        },
        {
          "output_type": "display_data",
          "data": {
            "image/png": "[encoded data removed]",
            "text/plain": [
              "<Figure size 432x288 with 1 Axes>"
            ]
          },
          "metadata": {
            "tags": [],
            "needs_background": "light"
          }
        }
      ]
    }
  ]
}